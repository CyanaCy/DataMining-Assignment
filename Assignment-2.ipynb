{
 "cells": [
  {
   "cell_type": "markdown",
   "metadata": {},
   "source": [
    "# Assignment 02"
   ]
  },
  {
   "cell_type": "code",
   "execution_count": 1,
   "metadata": {},
   "outputs": [
    {
     "name": "stdout",
     "output_type": "stream",
     "text": [
      "Size of original set: 150\n"
     ]
    }
   ],
   "source": [
    "from random import seed,randrange\n",
    "from csv import reader\n",
    "import numpy as np\n",
    "from math import sqrt\n",
    "import copy\n",
    "import matplotlib.pyplot as plt \n",
    "\n",
    "class_lookup = {'Iris-setosa':0, 'Iris-versicolor':1, 'Iris-virginica':2}\n",
    "\n",
    "dataset = list()\n",
    "file_address = 'iris.data'\n",
    "with open(file_address, 'r') as file:\n",
    "    contents = reader(file)\n",
    "    for line in contents:\n",
    "        if not line:\n",
    "            continue\n",
    "        for i in range(len(line)-1):\n",
    "            line[i] = float(line[i])\n",
    "        line[-1] = class_lookup[line[-1]]\n",
    "        dataset.append(line)\n",
    "\n",
    "print('Size of original set:', len(dataset))"
   ]
  },
  {
   "cell_type": "markdown",
   "metadata": {},
   "source": [
    "## a. Divide Dataset"
   ]
  },
  {
   "cell_type": "code",
   "execution_count": 2,
   "metadata": {},
   "outputs": [
    {
     "name": "stdout",
     "output_type": "stream",
     "text": [
      "Size of development set: 75\n",
      "Size of test set: 75\n"
     ]
    }
   ],
   "source": [
    "seed(1)\n",
    "\n",
    "dev_data = []\n",
    "test_data = []\n",
    "dev_size = len(dataset)//2\n",
    "\n",
    "for _ in range(dev_size):\n",
    "    random_index = randrange(len(dataset))\n",
    "    dev_data.append(dataset.pop(random_index))\n",
    "\n",
    "test_data = dataset\n",
    "print('Size of development set:', len(dev_data))\n",
    "print('Size of test set:', len(test_data))"
   ]
  },
  {
   "cell_type": "markdown",
   "metadata": {},
   "source": [
    "## b. Implement KNN (Function Definition)"
   ]
  },
  {
   "cell_type": "code",
   "execution_count": 3,
   "metadata": {},
   "outputs": [],
   "source": [
    "# *Seems do not need to normalize data before using normalized euclidean distance.\n",
    "# def normalize(data): \n",
    "#     data_normalize = copy.deepcopy(data)\n",
    "#     data_normalize_transpose = list(zip(*data_normalize))\n",
    "#     for i, row in enumerate(data_normalize_transpose):\n",
    "#         mean_value = sum(row)/len(row)\n",
    "#         std_value = sqrt(sum([(x-mean_value)**2 for x in row]) / (len(row) - 1))\n",
    "#         for j in range(len(row)):\n",
    "#             data_normalize[j][i] = (data_normalize_transpose[i][j]-mean_value)/std_value    \n",
    "#     return data_normalize\n",
    "\n",
    "\n",
    "# Calculate standard deviation for every feature\n",
    "def calculate_std(data):\n",
    "    std_list = []\n",
    "    data_transpose = list(zip(*data))\n",
    "    for row in data_transpose:\n",
    "        mean_value = sum(row)/len(row)\n",
    "        std_value = sqrt(sum([(x-mean_value)**2 for x in row]) / (len(row)-1))\n",
    "        std_list.append(std_value)\n",
    "    return std_list\n",
    "\n",
    "def distance_calculate(distance_metric, node1_index, node2_index, data, std_list):\n",
    "    # IMPORTANT! The range must -1! Last value is the class label value!\n",
    "    if distance_metric == 0: # Use euclidean distance\n",
    "        lst=[(data[node1_index][i]-data[node2_index][i])**2 for i in range(len(data[node1_index])-1)]  #-1 or not -1? **\n",
    "        return sqrt(sum(lst))\n",
    "    elif distance_metric == 1:  # Use normalized euclidean distance----d(x,y)=√(∑(xi-yi)^2/si^2)\n",
    "        return sqrt(sum([(data[node1_index][i]-data[node2_index][i])**2 /std_list[i]**2 for i in range(len(data[node1_index])-1)]))\n",
    "#         return sqrt(sum([(data_normalize[node1_index][i]-data_normalize[node2_index][i])**2 \\\n",
    "#             for i in range(len(data_normalize[node1_index])-1)]))\n",
    "    elif distance_metric == 2: # Use cosine similarity\n",
    "        molecule = sum([data[node1_index][i]*data[node2_index][i] for i in range(len(data[node1_index])-1)])\n",
    "        denominator = sqrt(sum([x**2 for x in data[node1_index][:-1]])) * sqrt(sum([x**2 for x in data[node2_index][:-1]]))\n",
    "        return 1-molecule/denominator\n",
    "        \n",
    "# Apply KNN and calculate the accuracy\n",
    "def knn(data, dev_std_list, k, distance_metric):\n",
    "    correct_count = 0\n",
    "    for index, node in enumerate(data):\n",
    "        distance = []\n",
    "        for index2, node2 in enumerate(data):\n",
    "            if index == index2:\n",
    "                distance.append(float('inf'))  # set the similarity to itself as maximum for excluding it from the nearest neighbors list\n",
    "                continue\n",
    "            distance.append(distance_calculate(distance_metric, index, index2, data, dev_std_list))\n",
    "        sorted_index = np.argsort(np.array(distance))\n",
    "        nearest_nodes = [data[i] for i in sorted_index]\n",
    "        class_count = {} # key:classlabel, value:count\n",
    "        for n in nearest_nodes[:k]:\n",
    "            if n[-1] not in class_count:\n",
    "                class_count[n[-1]] = 1\n",
    "            else:\n",
    "                class_count[n[-1]] += 1\n",
    "        max_count = 0\n",
    "        max_label = 0\n",
    "        for key,value in class_count.items():\n",
    "            if value > max_count:\n",
    "                max_count = value\n",
    "                max_label = key\n",
    "        if max_label == node[-1]:\n",
    "            correct_count += 1\n",
    "    return correct_count / len(data)"
   ]
  },
  {
   "cell_type": "markdown",
   "metadata": {},
   "source": [
    "## c. Calculate Accuracy and Draw Charts"
   ]
  },
  {
   "cell_type": "code",
   "execution_count": 4,
   "metadata": {},
   "outputs": [
    {
     "name": "stdout",
     "output_type": "stream",
     "text": [
      "Euclidean distance,  k=1,  accuracy=0.9467\n",
      "Euclidean distance,  k=3,  accuracy=0.9600\n",
      "Euclidean distance,  k=5,  accuracy=0.9333\n",
      "Euclidean distance,  k=7,  accuracy=0.9467\n",
      "Normalized Euclidean distance,  k=1,  accuracy=0.9200\n",
      "Normalized Euclidean distance,  k=3,  accuracy=0.9333\n",
      "Normalized Euclidean distance,  k=5,  accuracy=0.9600\n",
      "Normalized Euclidean distance,  k=7,  accuracy=0.9733\n",
      "Cosine distance,  k=1,  accuracy=0.9600\n",
      "Cosine distance,  k=3,  accuracy=0.9867\n",
      "Cosine distance,  k=5,  accuracy=0.9733\n",
      "Cosine distance,  k=7,  accuracy=0.9733\n"
     ]
    }
   ],
   "source": [
    "accuracy_list= []\n",
    "k = [1,3,5,7]\n",
    "distance_metric_list = [0,1,2]\n",
    "distance_metric_lookup = {0: 'Euclidean', 1: 'Normalized Euclidean', 2:'Cosine'}\n",
    "dev_std_list = calculate_std(dev_data)\n",
    "for di in distance_metric_list:\n",
    "    for ki in k:\n",
    "        accuracy = knn(dev_data, dev_std_list, ki, di)\n",
    "        accuracy_list.append([di, ki, accuracy])\n",
    "for x in accuracy_list:\n",
    "    print('%s distance,  k=%d,  accuracy=%.4f'%(distance_metric_lookup[x[0]], x[1], x[2]))"
   ]
  },
  {
   "cell_type": "code",
   "execution_count": 5,
   "metadata": {},
   "outputs": [
    {
     "data": {
      "image/png": "[encoded data removed]",
      "text/plain": [
       "<Figure size 432x288 with 1 Axes>"
      ]
     },
     "metadata": {
      "needs_background": "light"
     },
     "output_type": "display_data"
    }
   ],
   "source": [
    "bar_width = 0.2\n",
    "labels = distance_metric_lookup.values()\n",
    "\n",
    "for i, ki in enumerate(k):\n",
    "    plt.bar(np.arange(len(labels))+i*bar_width, [x[2] for x in accuracy_list if x[1]==ki], width=bar_width, label='K='+str(ki))\n",
    "\n",
    "plt.xticks(np.arange(len(labels))+bar_width, labels)\n",
    "\n",
    "plt.ylabel('Accuracy')\n",
    "\n",
    "plt.legend()\n",
    "plt.ylim(0.9,1)\n",
    "plt.show()"
   ]
  },
  {
   "cell_type": "markdown",
   "metadata": {},
   "source": [
    "#### From the chart above, the optimal hyperparameters are k=3 and cosine distance."
   ]
  },
  {
   "cell_type": "markdown",
   "metadata": {},
   "source": [
    "## d. Apply in Test Dataset"
   ]
  },
  {
   "cell_type": "code",
   "execution_count": 6,
   "metadata": {},
   "outputs": [
    {
     "name": "stdout",
     "output_type": "stream",
     "text": [
      "Accuracy:  0.9733333333333334\n"
     ]
    }
   ],
   "source": [
    "test_std_list = calculate_std(test_data)\n",
    "accuracy = knn(test_data, test_std_list,3, 2) # k=3, distance metric=2(Cosine Distance)\n",
    "print('Accuracy: ', accuracy)"
   ]
  }
 ],
 "metadata": {
  "kernelspec": {
   "display_name": "Python 3",
   "language": "python",
   "name": "python3"
  },
  "language_info": {
   "codemirror_mode": {
    "name": "ipython",
    "version": 3
   },
   "file_extension": ".py",
   "mimetype": "text/x-python",
   "name": "python",
   "nbconvert_exporter": "python",
   "pygments_lexer": "ipython3",
   "version": "3.7.4"
  }
 },
 "nbformat": 4,
 "nbformat_minor": 2
}
